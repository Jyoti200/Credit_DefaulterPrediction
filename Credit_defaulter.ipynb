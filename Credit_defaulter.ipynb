{
 "cells": [
  {
   "cell_type": "code",
   "execution_count": 1,
   "id": "78b2a16a",
   "metadata": {},
   "outputs": [],
   "source": [
    "import numpy as np\n",
    "import pandas as pd\n",
    "import matplotlib.pyplot as plt\n",
    "import seaborn as sns\n",
    "import warnings\n",
    "warnings.filterwarnings(\"ignore\")"
   ]
  },
  {
   "cell_type": "code",
   "execution_count": 2,
   "id": "9db77832",
   "metadata": {},
   "outputs": [],
   "source": [
    "data=pd.read_csv('German_Credit_Data.csv')"
   ]
  },
  {
   "cell_type": "code",
   "execution_count": 3,
   "id": "aa4bdb28",
   "metadata": {},
   "outputs": [
    {
     "data": {
      "text/html": [
       "<div>\n",
       "<style scoped>\n",
       "    .dataframe tbody tr th:only-of-type {\n",
       "        vertical-align: middle;\n",
       "    }\n",
       "\n",
       "    .dataframe tbody tr th {\n",
       "        vertical-align: top;\n",
       "    }\n",
       "\n",
       "    .dataframe thead th {\n",
       "        text-align: right;\n",
       "    }\n",
       "</style>\n",
       "<table border=\"1\" class=\"dataframe\">\n",
       "  <thead>\n",
       "    <tr style=\"text-align: right;\">\n",
       "      <th></th>\n",
       "      <th>checkin_acc</th>\n",
       "      <th>duration</th>\n",
       "      <th>credit_history</th>\n",
       "      <th>amount</th>\n",
       "      <th>savings_acc</th>\n",
       "      <th>present_emp_since</th>\n",
       "      <th>inst_rate</th>\n",
       "      <th>personal_status</th>\n",
       "      <th>residing_since</th>\n",
       "      <th>age</th>\n",
       "      <th>inst_plans</th>\n",
       "      <th>num_credits</th>\n",
       "      <th>job</th>\n",
       "      <th>status</th>\n",
       "    </tr>\n",
       "  </thead>\n",
       "  <tbody>\n",
       "    <tr>\n",
       "      <th>0</th>\n",
       "      <td>A11</td>\n",
       "      <td>6</td>\n",
       "      <td>A34</td>\n",
       "      <td>1169</td>\n",
       "      <td>A65</td>\n",
       "      <td>A75</td>\n",
       "      <td>4</td>\n",
       "      <td>A93</td>\n",
       "      <td>4</td>\n",
       "      <td>67</td>\n",
       "      <td>A143</td>\n",
       "      <td>2</td>\n",
       "      <td>A173</td>\n",
       "      <td>0</td>\n",
       "    </tr>\n",
       "    <tr>\n",
       "      <th>1</th>\n",
       "      <td>A12</td>\n",
       "      <td>48</td>\n",
       "      <td>A32</td>\n",
       "      <td>5951</td>\n",
       "      <td>A61</td>\n",
       "      <td>A73</td>\n",
       "      <td>2</td>\n",
       "      <td>A92</td>\n",
       "      <td>2</td>\n",
       "      <td>22</td>\n",
       "      <td>A143</td>\n",
       "      <td>1</td>\n",
       "      <td>A173</td>\n",
       "      <td>1</td>\n",
       "    </tr>\n",
       "    <tr>\n",
       "      <th>2</th>\n",
       "      <td>A14</td>\n",
       "      <td>12</td>\n",
       "      <td>A34</td>\n",
       "      <td>2096</td>\n",
       "      <td>A61</td>\n",
       "      <td>A74</td>\n",
       "      <td>2</td>\n",
       "      <td>A93</td>\n",
       "      <td>3</td>\n",
       "      <td>49</td>\n",
       "      <td>A143</td>\n",
       "      <td>1</td>\n",
       "      <td>A172</td>\n",
       "      <td>0</td>\n",
       "    </tr>\n",
       "    <tr>\n",
       "      <th>3</th>\n",
       "      <td>A11</td>\n",
       "      <td>42</td>\n",
       "      <td>A32</td>\n",
       "      <td>7882</td>\n",
       "      <td>A61</td>\n",
       "      <td>A74</td>\n",
       "      <td>2</td>\n",
       "      <td>A93</td>\n",
       "      <td>4</td>\n",
       "      <td>45</td>\n",
       "      <td>A143</td>\n",
       "      <td>1</td>\n",
       "      <td>A173</td>\n",
       "      <td>0</td>\n",
       "    </tr>\n",
       "    <tr>\n",
       "      <th>4</th>\n",
       "      <td>A11</td>\n",
       "      <td>24</td>\n",
       "      <td>A33</td>\n",
       "      <td>4870</td>\n",
       "      <td>A61</td>\n",
       "      <td>A73</td>\n",
       "      <td>3</td>\n",
       "      <td>A93</td>\n",
       "      <td>4</td>\n",
       "      <td>53</td>\n",
       "      <td>A143</td>\n",
       "      <td>2</td>\n",
       "      <td>A173</td>\n",
       "      <td>1</td>\n",
       "    </tr>\n",
       "  </tbody>\n",
       "</table>\n",
       "</div>"
      ],
      "text/plain": [
       "  checkin_acc  duration credit_history  amount savings_acc present_emp_since  \\\n",
       "0         A11         6            A34    1169         A65               A75   \n",
       "1         A12        48            A32    5951         A61               A73   \n",
       "2         A14        12            A34    2096         A61               A74   \n",
       "3         A11        42            A32    7882         A61               A74   \n",
       "4         A11        24            A33    4870         A61               A73   \n",
       "\n",
       "   inst_rate personal_status  residing_since  age inst_plans  num_credits  \\\n",
       "0          4             A93               4   67       A143            2   \n",
       "1          2             A92               2   22       A143            1   \n",
       "2          2             A93               3   49       A143            1   \n",
       "3          2             A93               4   45       A143            1   \n",
       "4          3             A93               4   53       A143            2   \n",
       "\n",
       "    job  status  \n",
       "0  A173       0  \n",
       "1  A173       1  \n",
       "2  A172       0  \n",
       "3  A173       0  \n",
       "4  A173       1  "
      ]
     },
     "execution_count": 3,
     "metadata": {},
     "output_type": "execute_result"
    }
   ],
   "source": [
    "data.head()"
   ]
  },
  {
   "cell_type": "code",
   "execution_count": 4,
   "id": "65c7ca45",
   "metadata": {},
   "outputs": [
    {
     "name": "stdout",
     "output_type": "stream",
     "text": [
      "<class 'pandas.core.frame.DataFrame'>\n",
      "RangeIndex: 1000 entries, 0 to 999\n",
      "Data columns (total 14 columns):\n",
      " #   Column             Non-Null Count  Dtype \n",
      "---  ------             --------------  ----- \n",
      " 0   checkin_acc        1000 non-null   object\n",
      " 1   duration           1000 non-null   int64 \n",
      " 2   credit_history     1000 non-null   object\n",
      " 3   amount             1000 non-null   int64 \n",
      " 4   savings_acc        1000 non-null   object\n",
      " 5   present_emp_since  1000 non-null   object\n",
      " 6   inst_rate          1000 non-null   int64 \n",
      " 7   personal_status    1000 non-null   object\n",
      " 8   residing_since     1000 non-null   int64 \n",
      " 9   age                1000 non-null   int64 \n",
      " 10  inst_plans         1000 non-null   object\n",
      " 11  num_credits        1000 non-null   int64 \n",
      " 12  job                1000 non-null   object\n",
      " 13  status             1000 non-null   int64 \n",
      "dtypes: int64(7), object(7)\n",
      "memory usage: 109.5+ KB\n"
     ]
    }
   ],
   "source": [
    "data.info()"
   ]
  },
  {
   "cell_type": "code",
   "execution_count": 4,
   "id": "06c2ad1a",
   "metadata": {},
   "outputs": [
    {
     "data": {
      "text/html": [
       "<div>\n",
       "<style scoped>\n",
       "    .dataframe tbody tr th:only-of-type {\n",
       "        vertical-align: middle;\n",
       "    }\n",
       "\n",
       "    .dataframe tbody tr th {\n",
       "        vertical-align: top;\n",
       "    }\n",
       "\n",
       "    .dataframe thead th {\n",
       "        text-align: right;\n",
       "    }\n",
       "</style>\n",
       "<table border=\"1\" class=\"dataframe\">\n",
       "  <thead>\n",
       "    <tr style=\"text-align: right;\">\n",
       "      <th></th>\n",
       "      <th>duration</th>\n",
       "      <th>amount</th>\n",
       "      <th>inst_rate</th>\n",
       "      <th>residing_since</th>\n",
       "      <th>age</th>\n",
       "      <th>num_credits</th>\n",
       "      <th>status</th>\n",
       "    </tr>\n",
       "  </thead>\n",
       "  <tbody>\n",
       "    <tr>\n",
       "      <th>count</th>\n",
       "      <td>1000.000000</td>\n",
       "      <td>1000.000000</td>\n",
       "      <td>1000.000000</td>\n",
       "      <td>1000.000000</td>\n",
       "      <td>1000.000000</td>\n",
       "      <td>1000.000000</td>\n",
       "      <td>1000.000000</td>\n",
       "    </tr>\n",
       "    <tr>\n",
       "      <th>mean</th>\n",
       "      <td>20.903000</td>\n",
       "      <td>3271.258000</td>\n",
       "      <td>2.973000</td>\n",
       "      <td>2.845000</td>\n",
       "      <td>35.546000</td>\n",
       "      <td>1.407000</td>\n",
       "      <td>0.300000</td>\n",
       "    </tr>\n",
       "    <tr>\n",
       "      <th>std</th>\n",
       "      <td>12.058814</td>\n",
       "      <td>2822.736876</td>\n",
       "      <td>1.118715</td>\n",
       "      <td>1.103718</td>\n",
       "      <td>11.375469</td>\n",
       "      <td>0.577654</td>\n",
       "      <td>0.458487</td>\n",
       "    </tr>\n",
       "    <tr>\n",
       "      <th>min</th>\n",
       "      <td>4.000000</td>\n",
       "      <td>250.000000</td>\n",
       "      <td>1.000000</td>\n",
       "      <td>1.000000</td>\n",
       "      <td>19.000000</td>\n",
       "      <td>1.000000</td>\n",
       "      <td>0.000000</td>\n",
       "    </tr>\n",
       "    <tr>\n",
       "      <th>25%</th>\n",
       "      <td>12.000000</td>\n",
       "      <td>1365.500000</td>\n",
       "      <td>2.000000</td>\n",
       "      <td>2.000000</td>\n",
       "      <td>27.000000</td>\n",
       "      <td>1.000000</td>\n",
       "      <td>0.000000</td>\n",
       "    </tr>\n",
       "    <tr>\n",
       "      <th>50%</th>\n",
       "      <td>18.000000</td>\n",
       "      <td>2319.500000</td>\n",
       "      <td>3.000000</td>\n",
       "      <td>3.000000</td>\n",
       "      <td>33.000000</td>\n",
       "      <td>1.000000</td>\n",
       "      <td>0.000000</td>\n",
       "    </tr>\n",
       "    <tr>\n",
       "      <th>75%</th>\n",
       "      <td>24.000000</td>\n",
       "      <td>3972.250000</td>\n",
       "      <td>4.000000</td>\n",
       "      <td>4.000000</td>\n",
       "      <td>42.000000</td>\n",
       "      <td>2.000000</td>\n",
       "      <td>1.000000</td>\n",
       "    </tr>\n",
       "    <tr>\n",
       "      <th>max</th>\n",
       "      <td>72.000000</td>\n",
       "      <td>18424.000000</td>\n",
       "      <td>4.000000</td>\n",
       "      <td>4.000000</td>\n",
       "      <td>75.000000</td>\n",
       "      <td>4.000000</td>\n",
       "      <td>1.000000</td>\n",
       "    </tr>\n",
       "  </tbody>\n",
       "</table>\n",
       "</div>"
      ],
      "text/plain": [
       "          duration        amount    inst_rate  residing_since          age  \\\n",
       "count  1000.000000   1000.000000  1000.000000     1000.000000  1000.000000   \n",
       "mean     20.903000   3271.258000     2.973000        2.845000    35.546000   \n",
       "std      12.058814   2822.736876     1.118715        1.103718    11.375469   \n",
       "min       4.000000    250.000000     1.000000        1.000000    19.000000   \n",
       "25%      12.000000   1365.500000     2.000000        2.000000    27.000000   \n",
       "50%      18.000000   2319.500000     3.000000        3.000000    33.000000   \n",
       "75%      24.000000   3972.250000     4.000000        4.000000    42.000000   \n",
       "max      72.000000  18424.000000     4.000000        4.000000    75.000000   \n",
       "\n",
       "       num_credits       status  \n",
       "count  1000.000000  1000.000000  \n",
       "mean      1.407000     0.300000  \n",
       "std       0.577654     0.458487  \n",
       "min       1.000000     0.000000  \n",
       "25%       1.000000     0.000000  \n",
       "50%       1.000000     0.000000  \n",
       "75%       2.000000     1.000000  \n",
       "max       4.000000     1.000000  "
      ]
     },
     "execution_count": 4,
     "metadata": {},
     "output_type": "execute_result"
    }
   ],
   "source": [
    "n=data.describe()\n",
    "n"
   ]
  },
  {
   "cell_type": "code",
   "execution_count": 5,
   "id": "47dd6c38",
   "metadata": {},
   "outputs": [
    {
     "data": {
      "text/html": [
       "<div>\n",
       "<style scoped>\n",
       "    .dataframe tbody tr th:only-of-type {\n",
       "        vertical-align: middle;\n",
       "    }\n",
       "\n",
       "    .dataframe tbody tr th {\n",
       "        vertical-align: top;\n",
       "    }\n",
       "\n",
       "    .dataframe thead th {\n",
       "        text-align: right;\n",
       "    }\n",
       "</style>\n",
       "<table border=\"1\" class=\"dataframe\">\n",
       "  <thead>\n",
       "    <tr style=\"text-align: right;\">\n",
       "      <th></th>\n",
       "      <th>count</th>\n",
       "      <th>unique</th>\n",
       "      <th>top</th>\n",
       "      <th>freq</th>\n",
       "    </tr>\n",
       "  </thead>\n",
       "  <tbody>\n",
       "    <tr>\n",
       "      <th>checkin_acc</th>\n",
       "      <td>1000</td>\n",
       "      <td>4</td>\n",
       "      <td>A14</td>\n",
       "      <td>394</td>\n",
       "    </tr>\n",
       "    <tr>\n",
       "      <th>credit_history</th>\n",
       "      <td>1000</td>\n",
       "      <td>5</td>\n",
       "      <td>A32</td>\n",
       "      <td>530</td>\n",
       "    </tr>\n",
       "    <tr>\n",
       "      <th>savings_acc</th>\n",
       "      <td>1000</td>\n",
       "      <td>5</td>\n",
       "      <td>A61</td>\n",
       "      <td>603</td>\n",
       "    </tr>\n",
       "    <tr>\n",
       "      <th>present_emp_since</th>\n",
       "      <td>1000</td>\n",
       "      <td>5</td>\n",
       "      <td>A73</td>\n",
       "      <td>339</td>\n",
       "    </tr>\n",
       "    <tr>\n",
       "      <th>personal_status</th>\n",
       "      <td>1000</td>\n",
       "      <td>4</td>\n",
       "      <td>A93</td>\n",
       "      <td>548</td>\n",
       "    </tr>\n",
       "    <tr>\n",
       "      <th>inst_plans</th>\n",
       "      <td>1000</td>\n",
       "      <td>3</td>\n",
       "      <td>A143</td>\n",
       "      <td>814</td>\n",
       "    </tr>\n",
       "    <tr>\n",
       "      <th>job</th>\n",
       "      <td>1000</td>\n",
       "      <td>4</td>\n",
       "      <td>A173</td>\n",
       "      <td>630</td>\n",
       "    </tr>\n",
       "  </tbody>\n",
       "</table>\n",
       "</div>"
      ],
      "text/plain": [
       "                  count unique   top freq\n",
       "checkin_acc        1000      4   A14  394\n",
       "credit_history     1000      5   A32  530\n",
       "savings_acc        1000      5   A61  603\n",
       "present_emp_since  1000      5   A73  339\n",
       "personal_status    1000      4   A93  548\n",
       "inst_plans         1000      3  A143  814\n",
       "job                1000      4  A173  630"
      ]
     },
     "execution_count": 5,
     "metadata": {},
     "output_type": "execute_result"
    }
   ],
   "source": [
    "c=data.describe(include='O').T\n",
    "c"
   ]
  },
  {
   "cell_type": "code",
   "execution_count": 96,
   "id": "591f6669",
   "metadata": {},
   "outputs": [
    {
     "data": {
      "text/plain": [
       "checkin_acc          0\n",
       "duration             0\n",
       "credit_history       0\n",
       "amount               0\n",
       "savings_acc          0\n",
       "present_emp_since    0\n",
       "inst_rate            0\n",
       "personal_status      0\n",
       "residing_since       0\n",
       "age                  0\n",
       "inst_plans           0\n",
       "num_credits          0\n",
       "job                  0\n",
       "status               0\n",
       "dtype: int64"
      ]
     },
     "execution_count": 96,
     "metadata": {},
     "output_type": "execute_result"
    }
   ],
   "source": [
    "#Missing Value Check!\n",
    "data.isna().sum()"
   ]
  },
  {
   "cell_type": "code",
   "execution_count": 32,
   "id": "3f55b4dc",
   "metadata": {
    "scrolled": false
   },
   "outputs": [
    {
     "name": "stdout",
     "output_type": "stream",
     "text": [
      "Variance of duration is 145.41500600600645\n",
      "Variance of amount is 7967843.470906904\n",
      "Variance of inst_rate is 1.2515225225225115\n",
      "Variance of residing_since is 1.2181931931932026\n",
      "Variance of age is 129.40128528528504\n",
      "Variance of num_credits is 0.33368468468468354\n",
      "Variance of status is 0.21021021021021277\n"
     ]
    }
   ],
   "source": [
    "# Checking zero variance\n",
    "for i in n.columns:\n",
    "    print(f'Variance of {i} is',data[i].var())"
   ]
  },
  {
   "cell_type": "markdown",
   "id": "29d32ec5",
   "metadata": {},
   "source": [
    "# Univariate Analysis"
   ]
  },
  {
   "cell_type": "code",
   "execution_count": 24,
   "id": "cfefe2a9",
   "metadata": {},
   "outputs": [
    {
     "data": {
      "image/png": "[encoded data removed]",
      "text/plain": [
       "<Figure size 432x288 with 1 Axes>"
      ]
     },
     "metadata": {
      "needs_background": "light"
     },
     "output_type": "display_data"
    },
    {
     "data": {
      "image/png": "[encoded data removed]",
      "text/plain": [
       "<Figure size 432x288 with 1 Axes>"
      ]
     },
     "metadata": {
      "needs_background": "light"
     },
     "output_type": "display_data"
    },
    {
     "data": {
      "image/png": "[encoded data removed]",
      "text/plain": [
       "<Figure size 432x288 with 1 Axes>"
      ]
     },
     "metadata": {
      "needs_background": "light"
     },
     "output_type": "display_data"
    },
    {
     "data": {
      "image/png": "[encoded data removed]",
      "text/plain": [
       "<Figure size 432x288 with 1 Axes>"
      ]
     },
     "metadata": {
      "needs_background": "light"
     },
     "output_type": "display_data"
    },
    {
     "data": {
      "image/png": "[encoded data removed]",
      "text/plain": [
       "<Figure size 432x288 with 1 Axes>"
      ]
     },
     "metadata": {
      "needs_background": "light"
     },
     "output_type": "display_data"
    },
    {
     "data": {
      "image/png": "[encoded data removed]",
      "text/plain": [
       "<Figure size 432x288 with 1 Axes>"
      ]
     },
     "metadata": {
      "needs_background": "light"
     },
     "output_type": "display_data"
    },
    {
     "data": {
      "image/png": "[encoded data removed]",
      "text/plain": [
       "<Figure size 432x288 with 1 Axes>"
      ]
     },
     "metadata": {
      "needs_background": "light"
     },
     "output_type": "display_data"
    }
   ],
   "source": [
    "for i in n.columns:\n",
    "    sns.boxplot(x=i,data=data)\n",
    "    plt.show()"
   ]
  },
  {
   "cell_type": "code",
   "execution_count": 113,
   "id": "0c4c528b",
   "metadata": {
    "scrolled": true
   },
   "outputs": [
    {
     "data": {
      "image/png": "[encoded data removed]",
      "text/plain": [
       "<Figure size 360x288 with 1 Axes>"
      ]
     },
     "metadata": {},
     "output_type": "display_data"
    }
   ],
   "source": [
    "plt.style.use('seaborn')\n",
    "plt.figure(figsize=(5,4))\n",
    "sns.kdeplot(x='duration',data=data)\n",
    "plt.show()"
   ]
  },
  {
   "cell_type": "code",
   "execution_count": 101,
   "id": "47d3c4db",
   "metadata": {
    "scrolled": true
   },
   "outputs": [
    {
     "data": {
      "image/png": "[encoded data removed]",
      "text/plain": [
       "<Figure size 360x288 with 1 Axes>"
      ]
     },
     "metadata": {},
     "output_type": "display_data"
    }
   ],
   "source": [
    "plt.figure(figsize=(5,4))\n",
    "plt.style.use('seaborn-whitegrid')\n",
    "sns.kdeplot(x='amount',data=data)\n",
    "plt.show()"
   ]
  },
  {
   "cell_type": "code",
   "execution_count": 16,
   "id": "f3176995",
   "metadata": {},
   "outputs": [
    {
     "data": {
      "image/png": "[encoded data removed]",
      "text/plain": [
       "<Figure size 432x288 with 1 Axes>"
      ]
     },
     "metadata": {},
     "output_type": "display_data"
    }
   ],
   "source": [
    "plt.style.use('seaborn-dark')\n",
    "sns.histplot(x='age',data=data)\n",
    "plt.show()"
   ]
  },
  {
   "cell_type": "code",
   "execution_count": 43,
   "id": "9c9816b4",
   "metadata": {
    "scrolled": true
   },
   "outputs": [
    {
     "data": {
      "text/plain": [
       "<AxesSubplot:xlabel='num_credits', ylabel='count'>"
      ]
     },
     "execution_count": 43,
     "metadata": {},
     "output_type": "execute_result"
    },
    {
     "data": {
      "image/png": "[encoded data removed]",
      "text/plain": [
       "<Figure size 432x288 with 1 Axes>"
      ]
     },
     "metadata": {},
     "output_type": "display_data"
    }
   ],
   "source": [
    "sns.countplot(x='num_credits',data=data)"
   ]
  },
  {
   "cell_type": "code",
   "execution_count": 55,
   "id": "9972e3eb",
   "metadata": {},
   "outputs": [
    {
     "data": {
      "image/png": "[encoded data removed]",
      "text/plain": [
       "<Figure size 432x288 with 1 Axes>"
      ]
     },
     "metadata": {},
     "output_type": "display_data"
    }
   ],
   "source": [
    "sns.countplot(x='residing_since',data=data)\n",
    "plt.show()"
   ]
  },
  {
   "cell_type": "code",
   "execution_count": 64,
   "id": "cec9c461",
   "metadata": {
    "scrolled": true
   },
   "outputs": [
    {
     "data": {
      "image/png": "[encoded data removed]",
      "text/plain": [
       "<Figure size 432x288 with 1 Axes>"
      ]
     },
     "metadata": {},
     "output_type": "display_data"
    }
   ],
   "source": [
    "plt.style.use('ggplot')\n",
    "sns.countplot(x='status',data=data)\n",
    "plt.show()"
   ]
  },
  {
   "cell_type": "code",
   "execution_count": 114,
   "id": "ca9a51d3",
   "metadata": {},
   "outputs": [],
   "source": [
    "#0 is not a defaulter\n",
    "#1 is defaulter"
   ]
  },
  {
   "cell_type": "markdown",
   "id": "6a4dc3e7",
   "metadata": {},
   "source": [
    "# Bivariate Analysis"
   ]
  },
  {
   "cell_type": "code",
   "execution_count": 110,
   "id": "23ca3966",
   "metadata": {},
   "outputs": [
    {
     "data": {
      "text/plain": [
       "Index(['checkin_acc', 'duration', 'credit_history', 'amount', 'savings_acc',\n",
       "       'present_emp_since', 'inst_rate', 'personal_status', 'residing_since',\n",
       "       'age', 'inst_plans', 'num_credits', 'job', 'status'],\n",
       "      dtype='object')"
      ]
     },
     "execution_count": 110,
     "metadata": {},
     "output_type": "execute_result"
    }
   ],
   "source": [
    "data.columns"
   ]
  },
  {
   "cell_type": "code",
   "execution_count": 111,
   "id": "2dfba73d",
   "metadata": {
    "scrolled": false
   },
   "outputs": [
    {
     "data": {
      "image/png": "[encoded data removed]",
      "text/plain": [
       "<Figure size 576x396 with 1 Axes>"
      ]
     },
     "metadata": {},
     "output_type": "display_data"
    }
   ],
   "source": [
    "#How duration affects credit defaulter's status?\n",
    "sns.barplot(x='status',y='duration',data=data,ci=True)\n",
    "plt.show()"
   ]
  },
  {
   "cell_type": "code",
   "execution_count": null,
   "id": "6b64d622",
   "metadata": {},
   "outputs": [],
   "source": [
    "# According to data higher duration leads to being a credit defaulter."
   ]
  },
  {
   "cell_type": "code",
   "execution_count": 104,
   "id": "6d76c4b6",
   "metadata": {},
   "outputs": [
    {
     "data": {
      "image/png": "[encoded data removed]",
      "text/plain": [
       "<Figure size 576x396 with 1 Axes>"
      ]
     },
     "metadata": {},
     "output_type": "display_data"
    }
   ],
   "source": [
    "#What age group is more likely to be a defaulter?\n",
    "sns.boxplot(x=\"status\", y=\"age\", data=data, orient=\"vertical\")\n",
    "plt.show()"
   ]
  },
  {
   "cell_type": "code",
   "execution_count": 108,
   "id": "23348028",
   "metadata": {},
   "outputs": [
    {
     "data": {
      "image/png": "[encoded data removed]",
      "text/plain": [
       "<Figure size 576x396 with 1 Axes>"
      ]
     },
     "metadata": {},
     "output_type": "display_data"
    }
   ],
   "source": [
    "sns.boxplot(x=\"status\", y=\"amount\", data=data, orient=\"vertical\")\n",
    "plt.show()"
   ]
  },
  {
   "cell_type": "code",
   "execution_count": 80,
   "id": "dc773d08",
   "metadata": {},
   "outputs": [
    {
     "data": {
      "text/plain": [
       "<AxesSubplot:>"
      ]
     },
     "execution_count": 80,
     "metadata": {},
     "output_type": "execute_result"
    },
    {
     "data": {
      "image/png": "[encoded data removed]",
      "text/plain": [
       "<Figure size 576x396 with 2 Axes>"
      ]
     },
     "metadata": {},
     "output_type": "display_data"
    }
   ],
   "source": [
    "sns.heatmap(data.corr(),annot=True)"
   ]
  },
  {
   "cell_type": "markdown",
   "id": "c0d027f3",
   "metadata": {},
   "source": [
    "# Encoding"
   ]
  },
  {
   "cell_type": "code",
   "execution_count": 4,
   "id": "b9f43799",
   "metadata": {},
   "outputs": [
    {
     "data": {
      "text/plain": [
       "['checkin_acc',\n",
       " 'duration',\n",
       " 'credit_history',\n",
       " 'amount',\n",
       " 'savings_acc',\n",
       " 'present_emp_since',\n",
       " 'inst_rate',\n",
       " 'personal_status',\n",
       " 'residing_since',\n",
       " 'age',\n",
       " 'inst_plans',\n",
       " 'num_credits',\n",
       " 'job']"
      ]
     },
     "execution_count": 4,
     "metadata": {},
     "output_type": "execute_result"
    }
   ],
   "source": [
    "X_features = list(data.columns)\n",
    "X_features.remove('status')\n",
    "X_features"
   ]
  },
  {
   "cell_type": "code",
   "execution_count": 5,
   "id": "81f449bb",
   "metadata": {},
   "outputs": [],
   "source": [
    "encoded=pd.get_dummies(data[X_features], drop_first = True)"
   ]
  },
  {
   "cell_type": "code",
   "execution_count": 6,
   "id": "246b4afb",
   "metadata": {},
   "outputs": [],
   "source": [
    "x=encoded\n",
    "y=data['status']"
   ]
  },
  {
   "cell_type": "code",
   "execution_count": 7,
   "id": "d1590c1a",
   "metadata": {},
   "outputs": [],
   "source": [
    "from sklearn.model_selection import train_test_split\n",
    "\n",
    "x_train,x_test,y_train,y_test=train_test_split(x,y,test_size=0.2,random_state=42)"
   ]
  },
  {
   "cell_type": "markdown",
   "id": "f3d5e607",
   "metadata": {},
   "source": [
    "# Model Selection"
   ]
  },
  {
   "cell_type": "code",
   "execution_count": 8,
   "id": "b7efba8a",
   "metadata": {},
   "outputs": [
    {
     "name": "stdout",
     "output_type": "stream",
     "text": [
      "LR: Training Score=0.7488, Testing Score=0.7800, ROC-AUC=0.6863, Recall=0.4576, Precision=0.6923\n",
      "Cross-Validation\n",
      "LR: ACCURACY=0.7200, RECALL=0.3516, PRECISION=0.5406, ROC-AUC=0.7491\n",
      "\n",
      "\n",
      "DT: Training Score=1.0000, Testing Score=0.6950, ROC-AUC=0.6408, Recall=0.5085, Precision=0.4839\n",
      "Cross-Validation\n",
      "DT: ACCURACY=0.6712, RECALL=0.5188, PRECISION=0.4569, ROC-AUC=0.6209\n",
      "\n",
      "\n",
      "RF: Training Score=1.0000, Testing Score=0.7700, ROC-AUC=0.6545, Recall=0.3729, Precision=0.7097\n",
      "Cross-Validation\n",
      "RF: ACCURACY=0.7400, RECALL=0.3915, PRECISION=0.6152, ROC-AUC=0.7400\n",
      "\n",
      "\n",
      "SVC: Training Score=0.7075, Testing Score=0.7150, ROC-AUC=0.5219, Recall=0.0508, Precision=0.7500\n",
      "Cross-Validation\n",
      "SVC: ACCURACY=0.7038, RECALL=0.0793, PRECISION=0.6167, ROC-AUC=0.5809\n",
      "\n",
      "\n",
      "SGD: Training Score=0.6987, Testing Score=0.7050, ROC-AUC=0.5000, Recall=0.0000, Precision=0.0000\n",
      "Cross-Validation\n",
      "SGD: ACCURACY=0.5625, RECALL=0.2044, PRECISION=0.0870, ROC-AUC=0.5635\n",
      "\n",
      "\n",
      "GB: Training Score=0.8862, Testing Score=0.7900, ROC-AUC=0.6934, Recall=0.4576, Precision=0.7297\n",
      "Cross-Validation\n",
      "GB: ACCURACY=0.7288, RECALL=0.3907, PRECISION=0.5779, ROC-AUC=0.7415\n",
      "\n",
      "\n",
      "Ada: Training Score=0.7800, Testing Score=0.7500, ROC-AUC=0.6551, Recall=0.4237, Precision=0.6098\n",
      "Cross-Validation\n",
      "Ada: ACCURACY=0.7125, RECALL=0.3760, PRECISION=0.5167, ROC-AUC=0.7184\n",
      "\n",
      "\n",
      "KNN: Training Score=0.7550, Testing Score=0.6800, ROC-AUC=0.5513, Recall=0.2373, Precision=0.4242\n",
      "Cross-Validation\n",
      "KNN: ACCURACY=0.6512, RECALL=0.2350, PRECISION=0.3732, ROC-AUC=0.5607\n",
      "\n",
      "\n"
     ]
    }
   ],
   "source": [
    "from sklearn.model_selection import KFold, cross_val_score\n",
    "from sklearn.metrics import roc_auc_score, recall_score, precision_score\n",
    "from sklearn.linear_model import LogisticRegression, SGDClassifier\n",
    "from sklearn.neighbors import KNeighborsClassifier\n",
    "from sklearn.tree import DecisionTreeClassifier\n",
    "from sklearn.svm import SVC\n",
    "from sklearn.ensemble import RandomForestClassifier, AdaBoostClassifier, GradientBoostingClassifier\n",
    "\n",
    "models = {\n",
    "    'LR': LogisticRegression(),\n",
    "    'DT': DecisionTreeClassifier(),\n",
    "    'RF': RandomForestClassifier(),\n",
    "    'SVC': SVC(),\n",
    "    'SGD': SGDClassifier(),\n",
    "    'GB': GradientBoostingClassifier(),\n",
    "    'Ada': AdaBoostClassifier(),\n",
    "    'KNN': KNeighborsClassifier()\n",
    "}\n",
    "\n",
    "scoring = ['accuracy', 'recall', 'precision', 'roc_auc']\n",
    "\n",
    "for model_name, model in models.items():\n",
    "    model.fit(x_train, y_train)\n",
    "\n",
    "    # Training score\n",
    "    training_score = model.score(x_train, y_train)\n",
    "\n",
    "    # Testing score\n",
    "    testing_score = model.score(x_test, y_test)\n",
    "\n",
    "    # Predictions and classification report\n",
    "    y_pred = model.predict(x_test)\n",
    "    roc_auc = roc_auc_score(y_test, y_pred)\n",
    "\n",
    "    # Recall (Sensitivity) Score\n",
    "    recall = recall_score(y_test, y_pred)\n",
    "\n",
    "    # Precision Score\n",
    "    precision = precision_score(y_test, y_pred)\n",
    "\n",
    "    result_line = f\"{model_name}: Training Score={training_score:.4f}, Testing Score={testing_score:.4f}, ROC-AUC={roc_auc:.4f}, Recall={recall:.4f}, Precision={precision:.4f}\"\n",
    "    print(result_line)\n",
    "\n",
    "    # Cross-validation\n",
    "    print('Cross-Validation')\n",
    "    kfold = KFold(n_splits=10, random_state=None)\n",
    "    cv_results = [cross_val_score(model, x_train, y_train, cv=kfold, scoring=metric).mean() for metric in scoring]\n",
    "\n",
    "    cv_msg = f\"{model_name}: ACCURACY={cv_results[0]:.4f}, RECALL={cv_results[1]:.4f}, PRECISION={cv_results[2]:.4f}, ROC-AUC={cv_results[3]:.4f}\"\n",
    "    print(cv_msg)\n",
    "\n",
    "    print(\"\\n\")\n"
   ]
  },
  {
   "cell_type": "markdown",
   "id": "ae3a92cb",
   "metadata": {},
   "source": [
    "# Logistic Regression"
   ]
  },
  {
   "cell_type": "code",
   "execution_count": 12,
   "id": "ff809c83",
   "metadata": {},
   "outputs": [],
   "source": [
    "from sklearn.linear_model import LogisticRegression\n",
    "from sklearn.model_selection import GridSearchCV\n",
    "lr=LogisticRegression()"
   ]
  },
  {
   "cell_type": "code",
   "execution_count": 10,
   "id": "927c4c30",
   "metadata": {},
   "outputs": [],
   "source": [
    "param_grid = {\n",
    "    'C': [0.001, 0.01, 0.1, 1, 10, 100],\n",
    "    'penalty': ['l1', 'l2'],\n",
    "    'solver': ['liblinear', 'newton-cg', 'lbfgs', 'sag', 'saga']\n",
    "}\n"
   ]
  },
  {
   "cell_type": "code",
   "execution_count": 13,
   "id": "5e8c9166",
   "metadata": {},
   "outputs": [
    {
     "data": {
      "text/plain": [
       "{'C': 1, 'penalty': 'l2', 'solver': 'liblinear'}"
      ]
     },
     "execution_count": 13,
     "metadata": {},
     "output_type": "execute_result"
    }
   ],
   "source": [
    "model = LogisticRegression()\n",
    "grid_search = GridSearchCV(model, param_grid, cv=10, scoring='accuracy')\n",
    "grid_search.fit(x_train, y_train)\n",
    "best_params = grid_search.best_params_\n",
    "best_params"
   ]
  },
  {
   "cell_type": "code",
   "execution_count": 14,
   "id": "d7f03797",
   "metadata": {},
   "outputs": [],
   "source": [
    "lr=LogisticRegression(C=1,penalty='l2',solver='liblinear')"
   ]
  },
  {
   "cell_type": "code",
   "execution_count": 15,
   "id": "63c4f05d",
   "metadata": {},
   "outputs": [
    {
     "data": {
      "text/plain": [
       "LogisticRegression(C=1, solver='liblinear')"
      ]
     },
     "execution_count": 15,
     "metadata": {},
     "output_type": "execute_result"
    }
   ],
   "source": [
    "lr.fit(x_train,y_train)"
   ]
  },
  {
   "cell_type": "code",
   "execution_count": 16,
   "id": "baf92413",
   "metadata": {},
   "outputs": [],
   "source": [
    "y_pred=lr.predict(x_test)"
   ]
  },
  {
   "cell_type": "code",
   "execution_count": 17,
   "id": "401e3d74",
   "metadata": {},
   "outputs": [
    {
     "data": {
      "text/plain": [
       "array([1, 0, 1, 0, 0, 0, 0, 1, 0, 0, 0, 1, 0, 1, 1, 0, 0, 0, 1, 0, 0, 0,\n",
       "       0, 0, 0, 1, 0, 1, 0, 0, 0, 0, 0, 0, 0, 0, 0, 0, 0, 1, 0, 0, 1, 0,\n",
       "       0, 0, 1, 0, 1, 0, 1, 0, 0, 1, 0, 0, 0, 0, 1, 0, 0, 0, 0, 0, 0, 0,\n",
       "       0, 1, 0, 0, 0, 0, 0, 1, 0, 1, 0, 0, 0, 0, 0, 0, 0, 0, 0, 1, 1, 1,\n",
       "       0, 0, 0, 0, 1, 0, 0, 0, 0, 0, 1, 1, 0, 0, 0, 0, 0, 0, 0, 0, 0, 0,\n",
       "       1, 0, 1, 0, 0, 0, 0, 0, 0, 0, 0, 0, 0, 0, 0, 0, 0, 0, 0, 0, 0, 0,\n",
       "       0, 0, 0, 0, 1, 0, 0, 0, 1, 0, 1, 0, 0, 1, 0, 0, 0, 1, 0, 0, 0, 0,\n",
       "       0, 0, 0, 0, 0, 0, 0, 0, 0, 0, 0, 0, 0, 0, 0, 1, 0, 0, 0, 0, 0, 0,\n",
       "       0, 0, 0, 1, 0, 0, 0, 0, 0, 0, 1, 0, 0, 0, 0, 1, 0, 0, 0, 0, 1, 1,\n",
       "       1, 0], dtype=int64)"
      ]
     },
     "execution_count": 17,
     "metadata": {},
     "output_type": "execute_result"
    }
   ],
   "source": [
    "y_pred"
   ]
  },
  {
   "cell_type": "code",
   "execution_count": 18,
   "id": "1d6adc40",
   "metadata": {},
   "outputs": [
    {
     "name": "stdout",
     "output_type": "stream",
     "text": [
      "Training score:  0.75375\n",
      "Testing score:  0.78\n"
     ]
    }
   ],
   "source": [
    "from sklearn.metrics import accuracy_score, classification_report, confusion_matrix\n",
    "\n",
    "lrtrain = lr.score(x_train, y_train)\n",
    "print(\"Training score: \",lrtrain)\n",
    "lrtest = lr.score(x_test, y_test)\n",
    "print(\"Testing score: \",lrtest)"
   ]
  },
  {
   "cell_type": "code",
   "execution_count": 19,
   "id": "f9427890",
   "metadata": {},
   "outputs": [],
   "source": [
    "y_pred=lr.predict(x_test)"
   ]
  },
  {
   "cell_type": "code",
   "execution_count": 20,
   "id": "9670b21f",
   "metadata": {},
   "outputs": [
    {
     "data": {
      "image/png": "[encoded data removed]",
      "text/plain": [
       "<Figure size 432x288 with 2 Axes>"
      ]
     },
     "metadata": {
      "needs_background": "light"
     },
     "output_type": "display_data"
    }
   ],
   "source": [
    "from sklearn import metrics\n",
    "confusion_matrix = metrics.confusion_matrix(y_test, y_pred)\n",
    "cm_display = metrics.ConfusionMatrixDisplay(confusion_matrix = confusion_matrix, display_labels = [False, True])\n",
    "cm_display.plot()\n",
    "plt.show()"
   ]
  },
  {
   "cell_type": "code",
   "execution_count": 21,
   "id": "f709f3b9",
   "metadata": {
    "scrolled": true
   },
   "outputs": [
    {
     "name": "stdout",
     "output_type": "stream",
     "text": [
      "              precision    recall  f1-score   support\n",
      "\n",
      "           0       0.80      0.91      0.85       141\n",
      "           1       0.69      0.46      0.55        59\n",
      "\n",
      "    accuracy                           0.78       200\n",
      "   macro avg       0.75      0.69      0.70       200\n",
      "weighted avg       0.77      0.78      0.76       200\n",
      "\n"
     ]
    }
   ],
   "source": [
    "from sklearn.metrics import roc_auc_score\n",
    "from sklearn.metrics import roc_curve\n",
    "from sklearn.metrics import roc_curve, auc\n",
    "print(metrics.classification_report(y_test, y_pred))"
   ]
  },
  {
   "cell_type": "code",
   "execution_count": 22,
   "id": "3e0506e6",
   "metadata": {},
   "outputs": [],
   "source": [
    "y_prob=lr.predict_proba(x_test)[:,1]"
   ]
  },
  {
   "cell_type": "code",
   "execution_count": 23,
   "id": "4cc3dfad",
   "metadata": {},
   "outputs": [],
   "source": [
    "from sklearn.metrics import roc_curve\n",
    "from sklearn.metrics import roc_curve, auc"
   ]
  },
  {
   "cell_type": "code",
   "execution_count": 24,
   "id": "030fc1f6",
   "metadata": {},
   "outputs": [
    {
     "data": {
      "image/png": "[encoded data removed]",
      "text/plain": [
       "<Figure size 432x288 with 1 Axes>"
      ]
     },
     "metadata": {
      "needs_background": "light"
     },
     "output_type": "display_data"
    }
   ],
   "source": [
    "fpr_dt, tpr_dt, _ = roc_curve(y_test,y_prob)\n",
    "roc_auc_dt = auc(fpr_dt, tpr_dt)\n",
    "\n",
    "plt.figure(1)\n",
    "lw = 2\n",
    "plt.plot(fpr_dt, tpr_dt, color='green',\n",
    "         lw=lw, label='LR(AUC = %0.2f)' % roc_auc_dt)\n",
    "plt.plot([0, 1], [0, 1], color='navy', lw=lw, linestyle='--')\n",
    "\n",
    "plt.xlim([0.0, 1.0])\n",
    "plt.ylim([0.0, 1.05])\n",
    "plt.xlabel('False Positive Rate')\n",
    "plt.ylabel('True Positive Rate')\n",
    "plt.title('Area Under Curve')\n",
    "plt.legend(loc=\"lower right\")\n",
    "plt.show()"
   ]
  },
  {
   "cell_type": "markdown",
   "id": "dd4ed7f5",
   "metadata": {},
   "source": [
    "# Random Forest \n",
    "Hyper Parameter tuning using Grid SearchCV"
   ]
  },
  {
   "cell_type": "code",
   "execution_count": 37,
   "id": "1eecda33",
   "metadata": {},
   "outputs": [
    {
     "data": {
      "text/plain": [
       "GridSearchCV(cv=10, estimator=RandomForestClassifier(random_state=101),\n",
       "             param_grid=[{'max_depth': [5, 10, 15],\n",
       "                          'max_features': ['sqrt', 0.2, 0.3, 0.5],\n",
       "                          'n_estimators': [50, 100, 150]}],\n",
       "             scoring='roc_auc')"
      ]
     },
     "execution_count": 37,
     "metadata": {},
     "output_type": "execute_result"
    }
   ],
   "source": [
    "## Configuring parameters and values for searched\n",
    "\n",
    "params = [{'max_depth': [5, 10, 15], 'n_estimators': [50, 100, 150],\n",
    "           'max_features': ['sqrt', 0.2, .3, .5]}]\n",
    "\n",
    "# square root of number of features in the dataset\n",
    "# 20%, 30%, 50% of the total no. of features\n",
    "## Initializing the RF classifier\n",
    "\n",
    "modelRF = RandomForestClassifier(random_state=101)\n",
    "\n",
    "## Configuring search with the tunable parameters\n",
    "\n",
    "modelCV = GridSearchCV(modelRF, params, cv=10, scoring='roc_auc')\n",
    "\n",
    "## Fitting the training set\n",
    "\n",
    "modelCV.fit(x_train, y_train)"
   ]
  },
  {
   "cell_type": "code",
   "execution_count": 38,
   "id": "a94b07b6",
   "metadata": {},
   "outputs": [
    {
     "data": {
      "text/plain": [
       "{'max_depth': 10, 'max_features': 'sqrt', 'n_estimators': 150}"
      ]
     },
     "execution_count": 38,
     "metadata": {},
     "output_type": "execute_result"
    }
   ],
   "source": [
    "modelCV.best_params_"
   ]
  },
  {
   "cell_type": "code",
   "execution_count": 40,
   "id": "54ef5024",
   "metadata": {},
   "outputs": [],
   "source": [
    "modelRF = RandomForestClassifier(n_estimators=150,max_depth=10,max_features='sqrt',random_state=101)"
   ]
  },
  {
   "cell_type": "code",
   "execution_count": 41,
   "id": "49ea6580",
   "metadata": {},
   "outputs": [
    {
     "data": {
      "text/plain": [
       "RandomForestClassifier(max_depth=10, max_features='sqrt', n_estimators=150,\n",
       "                       random_state=101)"
      ]
     },
     "execution_count": 41,
     "metadata": {},
     "output_type": "execute_result"
    }
   ],
   "source": [
    "modelRF.fit(x_train,y_train)"
   ]
  },
  {
   "cell_type": "code",
   "execution_count": 42,
   "id": "7bca2fa2",
   "metadata": {},
   "outputs": [],
   "source": [
    "y_predrf=modelRF.predict(x_test)"
   ]
  },
  {
   "cell_type": "code",
   "execution_count": 44,
   "id": "5adf7bf8",
   "metadata": {},
   "outputs": [
    {
     "name": "stdout",
     "output_type": "stream",
     "text": [
      "              precision    recall  f1-score   support\n",
      "\n",
      "           0       0.78      0.96      0.86       141\n",
      "           1       0.78      0.36      0.49        59\n",
      "\n",
      "    accuracy                           0.78       200\n",
      "   macro avg       0.78      0.66      0.67       200\n",
      "weighted avg       0.78      0.78      0.75       200\n",
      "\n"
     ]
    }
   ],
   "source": [
    "print(metrics.classification_report(y_test, y_predrf))"
   ]
  },
  {
   "cell_type": "code",
   "execution_count": 47,
   "id": "ddbae580",
   "metadata": {
    "scrolled": true
   },
   "outputs": [
    {
     "data": {
      "image/png": "[encoded data removed]",
      "text/plain": [
       "<Figure size 432x288 with 2 Axes>"
      ]
     },
     "metadata": {
      "needs_background": "light"
     },
     "output_type": "display_data"
    }
   ],
   "source": [
    "confusion_matrix = metrics.confusion_matrix(y_test, y_predrf)\n",
    "cm_display = metrics.ConfusionMatrixDisplay(confusion_matrix = confusion_matrix, display_labels = [False, True])\n",
    "cm_display.plot()\n",
    "plt.show()"
   ]
  },
  {
   "cell_type": "code",
   "execution_count": 46,
   "id": "79f8f732",
   "metadata": {
    "scrolled": true
   },
   "outputs": [
    {
     "data": {
      "text/plain": [
       "0.8095924990984494"
      ]
     },
     "execution_count": 46,
     "metadata": {},
     "output_type": "execute_result"
    }
   ],
   "source": [
    "metrics.roc_auc_score(y_test, modelRF.predict_proba(x_test)[:,1])"
   ]
  },
  {
   "cell_type": "code",
   "execution_count": 48,
   "id": "11c40576",
   "metadata": {},
   "outputs": [],
   "source": [
    "y_prob=modelRF.predict_proba(x_test)[:,1]"
   ]
  },
  {
   "cell_type": "markdown",
   "id": "510263b8",
   "metadata": {},
   "source": [
    "# Gradient Boost\n",
    "HyperParameter tunning using GridSearchCV"
   ]
  },
  {
   "cell_type": "code",
   "execution_count": 57,
   "id": "890ba178",
   "metadata": {},
   "outputs": [
    {
     "data": {
      "text/plain": [
       "GridSearchCV(cv=10, estimator=GradientBoostingClassifier(random_state=42),\n",
       "             param_grid=[{'learning_rate': [0.01, 0.05, 0.1],\n",
       "                          'n_estimators': [100, 200, 400]}],\n",
       "             scoring='roc_auc')"
      ]
     },
     "execution_count": 57,
     "metadata": {},
     "output_type": "execute_result"
    }
   ],
   "source": [
    "param = [{'n_estimators': [100, 200, 400], 'learning_rate': [.01,.05,.1]}]\n",
    "\n",
    "model = GradientBoostingClassifier(random_state=42)\n",
    "\n",
    "modelCV = GridSearchCV(model, param, cv=10, scoring = 'roc_auc')\n",
    "\n",
    "modelCV.fit(x_train, y_train)"
   ]
  },
  {
   "cell_type": "code",
   "execution_count": 59,
   "id": "aa3db71b",
   "metadata": {},
   "outputs": [
    {
     "data": {
      "text/plain": [
       "{'learning_rate': 0.05, 'n_estimators': 100}"
      ]
     },
     "execution_count": 59,
     "metadata": {},
     "output_type": "execute_result"
    }
   ],
   "source": [
    "modelCV.best_params_"
   ]
  },
  {
   "cell_type": "code",
   "execution_count": 60,
   "id": "e358d1ae",
   "metadata": {},
   "outputs": [],
   "source": [
    "gb=GradientBoostingClassifier(learning_rate=0.05,n_estimators=100,random_state=42)"
   ]
  },
  {
   "cell_type": "code",
   "execution_count": 61,
   "id": "92326080",
   "metadata": {},
   "outputs": [
    {
     "data": {
      "text/plain": [
       "GradientBoostingClassifier(learning_rate=0.05, random_state=42)"
      ]
     },
     "execution_count": 61,
     "metadata": {},
     "output_type": "execute_result"
    }
   ],
   "source": [
    "gb.fit(x_train,y_train)"
   ]
  },
  {
   "cell_type": "code",
   "execution_count": 62,
   "id": "fda42a4b",
   "metadata": {},
   "outputs": [],
   "source": [
    "y_predgb=gb.predict(x_test)"
   ]
  },
  {
   "cell_type": "code",
   "execution_count": 64,
   "id": "bd39cca7",
   "metadata": {},
   "outputs": [
    {
     "name": "stdout",
     "output_type": "stream",
     "text": [
      "              precision    recall  f1-score   support\n",
      "\n",
      "           0       0.79      0.94      0.86       141\n",
      "           1       0.74      0.39      0.51        59\n",
      "\n",
      "    accuracy                           0.78       200\n",
      "   macro avg       0.76      0.67      0.68       200\n",
      "weighted avg       0.77      0.78      0.76       200\n",
      "\n"
     ]
    }
   ],
   "source": [
    "print(metrics.classification_report(y_test,y_predgb))"
   ]
  },
  {
   "cell_type": "code",
   "execution_count": 66,
   "id": "ed829f6c",
   "metadata": {
    "scrolled": true
   },
   "outputs": [
    {
     "data": {
      "image/png": "[encoded data removed]",
      "text/plain": [
       "<Figure size 432x288 with 2 Axes>"
      ]
     },
     "metadata": {
      "needs_background": "light"
     },
     "output_type": "display_data"
    }
   ],
   "source": [
    "confusion_matrix = metrics.confusion_matrix(y_test, y_predgb)\n",
    "cm_display = metrics.ConfusionMatrixDisplay(confusion_matrix = confusion_matrix, display_labels = [0, 1])\n",
    "cm_display.plot()\n",
    "plt.show()"
   ]
  },
  {
   "cell_type": "code",
   "execution_count": 67,
   "id": "876ce748",
   "metadata": {
    "scrolled": true
   },
   "outputs": [
    {
     "data": {
      "text/plain": [
       "0.8325519894218054"
      ]
     },
     "execution_count": 67,
     "metadata": {},
     "output_type": "execute_result"
    }
   ],
   "source": [
    "metrics.roc_auc_score(y_test, gb.predict_proba(x_test)[:,1])"
   ]
  },
  {
   "cell_type": "code",
   "execution_count": 72,
   "id": "b573b170",
   "metadata": {},
   "outputs": [
    {
     "data": {
      "image/png": "[encoded data removed]",
      "text/plain": [
       "<Figure size 432x288 with 1 Axes>"
      ]
     },
     "metadata": {
      "needs_background": "light"
     },
     "output_type": "display_data"
    }
   ],
   "source": [
    "models_roc={'LR':0.80,'RF':0.801,'GB':0.83}\n",
    "#plotting\n",
    "fig, ax = plt.subplots()\n",
    "sns.barplot(x=list(models_roc.keys()), y=list(models_roc.values()))\n",
    "ax.set_yscale('log') #Setting logarithmic scale to visualize difference in better way.\n",
    "plt.xlabel('Models')\n",
    "plt.ylabel('ROC-AUC Score')\n",
    "plt.title('ROC-AUC Scores for Different Models')\n",
    "plt.show()"
   ]
  }
 ],
 "metadata": {
  "kernelspec": {
   "display_name": "Python 3",
   "language": "python",
   "name": "python3"
  },
  "language_info": {
   "codemirror_mode": {
    "name": "ipython",
    "version": 3
   },
   "file_extension": ".py",
   "mimetype": "text/x-python",
   "name": "python",
   "nbconvert_exporter": "python",
   "pygments_lexer": "ipython3",
   "version": "3.8.8"
  }
 },
 "nbformat": 4,
 "nbformat_minor": 5
}
